{
 "cells": [
  {
   "cell_type": "markdown",
   "metadata": {},
   "source": [
    "# SVM vs Perceptron Testing Accuracy\n",
    "\n",
    "The objective of this notebook is to assess the relationship between the testing accuracy of an SVM with a linear kernel and a Perceptron both trained / fitted to the same training sets."
   ]
  },
  {
   "cell_type": "markdown",
   "metadata": {},
   "source": [
    "### Block used for importing local ml package"
   ]
  },
  {
   "cell_type": "code",
   "execution_count": 1,
   "metadata": {
    "collapsed": true
   },
   "outputs": [],
   "source": [
    "import os\n",
    "import sys\n",
    "module_path = os.path.abspath(os.path.join('..'))\n",
    "if module_path not in sys.path:\n",
    "    sys.path.append(module_path)"
   ]
  },
  {
   "cell_type": "markdown",
   "metadata": {},
   "source": [
    "### Constraints of experiements\n",
    "\n",
    "* Work on 2 dimensional space.\n",
    "* Each test uses a large persistent testing set.\n",
    "* Datasets are generated with uniform distribution.\n",
    "* A small margin is kept constant.\n",
    "* All datasets are labeled using y = x as the optimal separation line."
   ]
  },
  {
   "cell_type": "markdown",
   "metadata": {},
   "source": [
    "### Settings global state variables"
   ]
  },
  {
   "cell_type": "code",
   "execution_count": 2,
   "metadata": {
    "collapsed": true
   },
   "outputs": [],
   "source": [
    "test_size = 5\n",
    "x_start = -200\n",
    "y_start = -200\n",
    "x_end = 200\n",
    "y_end = 200\n",
    "margin = 5"
   ]
  },
  {
   "cell_type": "markdown",
   "metadata": {},
   "source": [
    "### Generating testing set"
   ]
  },
  {
   "cell_type": "code",
   "execution_count": 3,
   "metadata": {
    "collapsed": false
   },
   "outputs": [],
   "source": [
    "import numpy as np\n",
    "from random import uniform\n",
    "\n",
    "def gen_dataset(n, x_start, x_end, y_start, y_end, margin):\n",
    "    \"\"\"Generate a dataset on separation line y = x.\n",
    "    \"\"\"\n",
    "    dataset = []\n",
    "    \n",
    "    for __ in range(n):\n",
    "        x = uniform(x_start, x_end)\n",
    "        y = uniform(y_start, y_end)\n",
    "        distance = abs(x-y) / 2**0.5\n",
    "        while distance < margin:\n",
    "            x = uniform(x_start, x_end)\n",
    "            y = uniform(y_start, y_end)\n",
    "            distance = abs(x-y) / 2**0.5\n",
    "        dataset.append([x, y])\n",
    "    \n",
    "    labels = [1 if y > x else -1 for x, y in dataset]\n",
    "    return dataset, labels\n",
    "\n",
    "test_set, test_labels = gen_dataset(test_size, x_start, x_end, y_start, y_end, margin)"
   ]
  },
  {
   "cell_type": "code",
   "execution_count": null,
   "metadata": {
    "collapsed": true
   },
   "outputs": [],
   "source": []
  }
 ],
 "metadata": {
  "kernelspec": {
   "display_name": "machine-learning-GGvcD8DP",
   "language": "python",
   "name": "machine-learning-ggvcd8dp"
  },
  "language_info": {
   "codemirror_mode": {
    "name": "ipython",
    "version": 3
   },
   "file_extension": ".py",
   "mimetype": "text/x-python",
   "name": "python",
   "nbconvert_exporter": "python",
   "pygments_lexer": "ipython3",
   "version": "3.6.3"
  }
 },
 "nbformat": 4,
 "nbformat_minor": 2
}
