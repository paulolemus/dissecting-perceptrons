{
 "cells": [
  {
   "cell_type": "code",
   "execution_count": null,
   "metadata": {
    "collapsed": false
   },
   "outputs": [],
   "source": [
    "from collections import namedtuple\n",
    "from random import randint\n",
    "\n",
    "\n",
    "# Using equation y = x\n",
    "\n",
    "# default values\n",
    "num_points = 100\n",
    "dimensions = 2\n",
    "learning_rate = 0.3\n",
    "\n",
    "x_start = 0\n",
    "x_end = 100\n",
    "y_start = 0\n",
    "y_end = 100\n",
    "\n",
    "margin = 1\n",
    "\n",
    "# object to use for points on graph\n",
    "Point = namedtuple('Point', ['x', 'y', 'value'])\n",
    "\n",
    "# Object to model perceptron\n",
    "class Perceptron:\n",
    "\n",
    "    def __init__(self, dimensions: int, learning_rate):\n",
    "        # Using w[0] as bias weight\n",
    "        self.bias = 1\n",
    "        self.threshold = 0\n",
    "        self.dimensions = dimensions\n",
    "        self.learning_rate = learning_rate\n",
    "        self.weights = [0 for __ in range(dimensions+1)]\n",
    "\n",
    "    def sign(self, inputs):\n",
    "        \"\"\"\n",
    "        Classify a single coordinate.\n",
    "        \"\"\"\n",
    "\n",
    "        # Guard mismatched vector size\n",
    "        if len(inputs) != self.dimensions:\n",
    "            raise ValueError\n",
    "\n",
    "        inputs.insert(0, self.bias)\n",
    "        total = sum([x*w for x, w in zip(inputs, self.weights)])\n",
    "\n",
    "        return 1 if total > self.threshold else -1\n",
    "\n",
    "\n",
    "    def train(self, dataset):\n",
    "        \"\"\"\n",
    "        Provided a dataset, where a dataset consists of a list of coordinates paired\n",
    "        with their proper classification , update the perceptron weights using each\n",
    "        coordinate.\n",
    "\n",
    "        Acceptable format:\n",
    "        dataset: List[coordinates, label]\n",
    "        \"\"\"\n",
    "        for coordinates, label in dataset:\n",
    "            classification = self.sign(coordinates)\n",
    "            adjustment = self.learning_rate * (label - classification)\n",
    "\n",
    "            self.weights = [weight+adjustment for weight in self.weights]\n",
    "\n",
    "    \n",
    "# Generate points given number of points to generate and a margin\n",
    "def generate_points(n, x_s, x_e, y_s, y_e, margin):\n",
    "    # Initial generation\n",
    "    points = [Point(randint(x_s, x_e), randint(y_s, y_e), 1) for __ in range(n)]\n",
    "    \n",
    "    # Fix margins\n",
    "    for i in range(len(points)):\n",
    "        while abs(points[i].x - points[i].y) < margin:\n",
    "            points[i] = Point(randint(x_s, x_e), randint(y_s, y_e), 1)\n",
    "            \n",
    "    # Set correct values\n",
    "    for i in range(len(points)):\n",
    "        if points[i].x > points[i].y:\n",
    "            points[i] = Point(points[i].x, points[i].y, 1)\n",
    "        else:\n",
    "            points[i] = Point(points[i].x, points[i].y, -1)\n",
    "    \n",
    "    return points"
   ]
  },
  {
   "cell_type": "markdown",
   "metadata": {},
   "source": [
    "# Discovering relationship between optimal line and "
   ]
  },
  {
   "cell_type": "code",
   "execution_count": null,
   "metadata": {
    "collapsed": false
   },
   "outputs": [],
   "source": [
    "import matplotlib.pyplot as plt\n",
    "\n",
    "points = generate_points(\n",
    "    num_points, \n",
    "    x_start, \n",
    "    x_end, \n",
    "    y_start, \n",
    "    y_end, \n",
    "    margin\n",
    ")\n",
    "\n",
    "# Show initial unchecked points and line\n",
    "plt.axis([x_start, x_end, y_start, y_end])\n",
    "for point in points:\n",
    "    plt.plot(point.x, point.y, 'k.' if point.value == 1 else 'kd')\n",
    "plt.plot([x_start, x_end], [y_start, y_end], 'g--')\n",
    "plt.show()"
   ]
  },
  {
   "cell_type": "code",
   "execution_count": null,
   "metadata": {
    "collapsed": false
   },
   "outputs": [],
   "source": [
    "# Need to check each point in perceptron, show it.\n",
    "\n",
    "percep = Perceptron(dimensions, learning_rate)\n",
    "\n",
    "plt.axis([x_start, x_end, y_start, y_end])\n",
    "\n",
    "for point in points:\n",
    "    choice = percep.sign([point.x, point.y])\n",
    "    drawing = ''\n",
    "    drawing += 'g' if choice == point.value else 'r'\n",
    "    drawing += '.' if point.value == 1 else 'd'\n",
    "    plt.plot(point.x, point.y, drawing)\n",
    "    \n",
    "plt.plot([x_start, x_end], [y_start, y_end], 'g--')\n",
    "plt.show()"
   ]
  }
 ],
 "metadata": {
  "kernelspec": {
   "display_name": "Python 3",
   "language": "python",
   "name": "python3"
  },
  "language_info": {
   "codemirror_mode": {
    "name": "ipython",
    "version": 3
   },
   "file_extension": ".py",
   "mimetype": "text/x-python",
   "name": "python",
   "nbconvert_exporter": "python",
   "pygments_lexer": "ipython3",
   "version": "3.6.3"
  }
 },
 "nbformat": 4,
 "nbformat_minor": 2
}
